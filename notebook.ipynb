{
 "cells": [
  {
   "cell_type": "code",
   "execution_count": 40,
   "metadata": {},
   "outputs": [],
   "source": [
    "import struct\n",
    "import numpy as np\n",
    "labelFile = open('MNIST/t10k-labels-idx1-ubyte', 'rb')\n",
    "magic, n = struct.unpack('>II',labelFile.read(8))\n",
    "labels = np.fromfile(labelFile,dtype=np.uint8)\n",
    "labelFile.close()"
   ]
  },
  {
   "cell_type": "code",
   "execution_count": 41,
   "metadata": {},
   "outputs": [],
   "source": [
    "imgFile = open('MNIST/t10k-images-idx3-ubyte', 'rb')\n",
    "magic, n, rows, colums = struct.unpack('>IIII',imgFile.read(16))\n",
    "img = np.fromfile(imgFile,dtype=np.uint8)\n",
    "imgFile.close()"
   ]
  },
  {
   "cell_type": "code",
   "execution_count": 42,
   "metadata": {},
   "outputs": [
    {
     "data": {
      "text/plain": [
       "<matplotlib.image.AxesImage at 0x7f97f28602e0>"
      ]
     },
     "execution_count": 42,
     "metadata": {},
     "output_type": "execute_result"
    },
    {
     "data": {
      "image/png": "[encoded data removed]",
      "text/plain": [
       "<Figure size 432x288 with 1 Axes>"
      ]
     },
     "metadata": {
      "needs_background": "light"
     },
     "output_type": "display_data"
    }
   ],
   "source": [
    "import matplotlib.pyplot as plt\n",
    "plt.imshow(img[0:784].reshape(28,28), cmap=\"gray\")"
   ]
  },
  {
   "cell_type": "code",
   "execution_count": 43,
   "metadata": {},
   "outputs": [
    {
     "data": {
      "text/plain": [
       "<matplotlib.image.AxesImage at 0x7f97f27c2340>"
      ]
     },
     "execution_count": 43,
     "metadata": {},
     "output_type": "execute_result"
    },
    {
     "data": {
      "image/png": "[encoded data removed]",
      "text/plain": [
       "<Figure size 432x288 with 1 Axes>"
      ]
     },
     "metadata": {
      "needs_background": "light"
     },
     "output_type": "display_data"
    }
   ],
   "source": [
    "plt.imshow(img.reshape(10000, 28, 28)[0], cmap=\"gray\")"
   ]
  },
  {
   "cell_type": "code",
   "execution_count": 44,
   "metadata": {},
   "outputs": [],
   "source": [
    "def getLabels(filePath):\n",
    "    with open(filePath, 'rb') as file:\n",
    "        magic, n = struct.unpack('>II',file.read(8))\n",
    "        labels = np.fromfile(file,dtype=np.uint8)\n",
    "        return labels\n",
    "\n",
    "def getImgs(filePath):\n",
    "    with open(filePath, 'rb') as file:\n",
    "        magic, n, rows, colums = struct.unpack('>IIII',file.read(16))\n",
    "        images = np.fromfile(file, dtype=np.uint8).reshape(n, rows, colums)\n",
    "        return images"
   ]
  },
  {
   "cell_type": "code",
   "execution_count": 45,
   "metadata": {},
   "outputs": [],
   "source": [
    "img = getImgs('MNIST/t10k-images-idx3-ubyte')\n",
    "label = getLabels('MNIST/t10k-labels-idx1-ubyte')"
   ]
  },
  {
   "cell_type": "code",
   "execution_count": 46,
   "metadata": {},
   "outputs": [
    {
     "data": {
      "text/plain": [
       "9"
      ]
     },
     "execution_count": 46,
     "metadata": {},
     "output_type": "execute_result"
    },
    {
     "data": {
      "image/png": "[encoded data removed]",
      "text/plain": [
       "<Figure size 432x288 with 1 Axes>"
      ]
     },
     "metadata": {
      "needs_background": "light"
     },
     "output_type": "display_data"
    }
   ],
   "source": [
    "plt.imshow(img[1086])\n",
    "label[1086]"
   ]
  },
  {
   "cell_type": "code",
   "execution_count": 47,
   "metadata": {},
   "outputs": [],
   "source": [
    "plt.imsave('test.jpg', img[0], cmap = \"gray\")"
   ]
  }
 ],
 "metadata": {
  "interpreter": {
   "hash": "fc195b9cdc9c8722e40c0744e06eed749ab200668d97afd9ec979156e40c74c2"
  },
  "kernelspec": {
   "display_name": "Python 3.9.5 ('base')",
   "language": "python",
   "name": "python3"
  },
  "language_info": {
   "codemirror_mode": {
    "name": "ipython",
    "version": 3
   },
   "file_extension": ".py",
   "mimetype": "text/x-python",
   "name": "python",
   "nbconvert_exporter": "python",
   "pygments_lexer": "ipython3",
   "version": "3.8.10"
  },
  "orig_nbformat": 4
 },
 "nbformat": 4,
 "nbformat_minor": 2
}
